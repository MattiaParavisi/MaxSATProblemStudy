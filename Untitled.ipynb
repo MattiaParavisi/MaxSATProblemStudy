{
 "cells": [
  {
   "cell_type": "code",
   "execution_count": 5,
   "metadata": {},
   "outputs": [],
   "source": [
    "import random as rnd\n",
    "import re\n",
    "import numpy as np"
   ]
  },
  {
   "cell_type": "code",
   "execution_count": 267,
   "metadata": {},
   "outputs": [],
   "source": [
    "class gen_clause:\n",
    "    \n",
    "    def __init__(self, num_of_var):\n",
    "        self.num_of_var = num_of_var - 1\n",
    "    \n",
    "    def gen_CNF(self, tot_clause_num, num_of_var_for_clause):\n",
    "        final_CNF = []\n",
    "        for i in range (tot_clause_num):\n",
    "            final_CNF.append(self.__gen_OR(num_of_var_for_clause))\n",
    "        return final_CNF\n",
    "    \n",
    "    def __gen_OR(self, num_of_var_for_clause):\n",
    "        ret_OR = ''\n",
    "        index_vec = sorted([rnd.randint(0, self.num_of_var) for _ in range(num_of_var_for_clause)], reverse = True)\n",
    "        #print(index_vec)\n",
    "        for i in range (num_of_var_for_clause):\n",
    "            prob = rnd.random()\n",
    "            if(i == num_of_var_for_clause - 1):\n",
    "                if(prob < 0.45):\n",
    "                    ret_OR += 'x' + str(index_vec[i])\n",
    "                else:\n",
    "                    ret_OR += 'not x' + str(index_vec[i])\n",
    "                break\n",
    "            if(prob < 0.45):    \n",
    "                ret_OR += 'not x' + str(index_vec[i]) + ' or '\n",
    "            else:\n",
    "                ret_OR += 'x' + str(index_vec[i]) + ' or '\n",
    "        return ret_OR    "
   ]
  },
  {
   "cell_type": "code",
   "execution_count": 268,
   "metadata": {},
   "outputs": [],
   "source": [
    "#numero di variabili che useremo\n",
    "n_bits = 15\n",
    "#grandezza popolazione iniziale\n",
    "n_pop = 10\n",
    "#numero di iterazioni algoritmo\n",
    "n_iter = 200"
   ]
  },
  {
   "cell_type": "code",
   "execution_count": 269,
   "metadata": {},
   "outputs": [],
   "source": [
    "def selection(pop, scores, k=4):\n",
    "    # first random selection\n",
    "    selection_ix = np.random.randint(len(pop))\n",
    "    for ix in np.random.randint(0, len(pop), k-1):\n",
    "        # check if better (e.g. perform a tournament)\n",
    "        if scores[ix] > scores[selection_ix]:\n",
    "            selection_ix = ix\n",
    "    return pop[selection_ix]"
   ]
  },
  {
   "cell_type": "code",
   "execution_count": 270,
   "metadata": {},
   "outputs": [],
   "source": [
    "# crossover two parents to create two children\n",
    "def crossover(p1, p2, r_cross):\n",
    "    # children are copies of parents by default\n",
    "    c1, c2 = p1.copy(), p2.copy()\n",
    "    # check for recombination\n",
    "    if np.random.rand() < r_cross:\n",
    "        # select crossover point that is not on the end of the string\n",
    "        pt = np.random.randint(1, len(p1)-2)\n",
    "        # perform crossover\n",
    "        c1 = p1[:pt] + p2[pt:]\n",
    "        c2 = p2[:pt] + p1[pt:]\n",
    "    return [c1, c2]"
   ]
  },
  {
   "cell_type": "code",
   "execution_count": 271,
   "metadata": {},
   "outputs": [],
   "source": [
    "# mutation operator\n",
    "def mutation(bitstring, r_mut):\n",
    "    for i in range(len(bitstring)):\n",
    "        # check for a mutation\n",
    "        if np.random.rand() < r_mut:\n",
    "            # flip the bit\n",
    "            bitstring[i] = 1 - bitstring[i]"
   ]
  },
  {
   "cell_type": "code",
   "execution_count": 277,
   "metadata": {},
   "outputs": [],
   "source": [
    "my_gen_clause = gen_clause(n_bits)\n",
    "CNF = my_gen_clause.gen_CNF(5, 4)"
   ]
  },
  {
   "cell_type": "code",
   "execution_count": 278,
   "metadata": {},
   "outputs": [
    {
     "data": {
      "text/plain": [
       "['not x14 or not x12 or not x11 or not x3',\n",
       " 'x5 or x4 or not x3 or x1',\n",
       " 'x8 or x7 or not x4 or not x0',\n",
       " 'x10 or x9 or x7 or not x2',\n",
       " 'x11 or not x7 or x1 or not x0']"
      ]
     },
     "execution_count": 278,
     "metadata": {},
     "output_type": "execute_result"
    }
   ],
   "source": [
    "CNF"
   ]
  },
  {
   "cell_type": "code",
   "execution_count": 273,
   "metadata": {},
   "outputs": [],
   "source": [
    "def genetic_algorithm(objective, CNF, n_bits, n_iter, n_pop, r_cross, r_mut):\n",
    "    # initial population of random bitstring\n",
    "    pop = [np.random.randint(0, 2, n_bits).tolist() for _ in range(n_pop)]\n",
    "    # keep track of best solution\n",
    "    best, best_eval = 0, objective(CNF,n_bits, pop[0])\n",
    "    # enumerate generations\n",
    "    print(best, best_eval)\n",
    "    for gen in range(n_iter):\n",
    "        # evaluate all candidates in the population\n",
    "        scores = [objective(CNF, n_bits, c) for c in pop]\n",
    "        # check for new best solution\n",
    "        for i in range(n_pop):\n",
    "            if scores[i] > best_eval:\n",
    "                best, best_eval = pop[i], scores[i]\n",
    "                print(\">%d, new best f(%s) = %.3f\" % (gen,  pop[i], scores[i]))\n",
    "        # select parents\n",
    "        selected = [selection(pop, scores) for _ in range(n_pop)]\n",
    "        # create the next generation\n",
    "        children = list()\n",
    "        for i in range(0, n_pop, 2):\n",
    "            # get selected parents in pairs\n",
    "            p1, p2 = selected[i], selected[i+1]\n",
    "            # crossover and mutation\n",
    "            for c in crossover(p1, p2, r_cross):\n",
    "                # mutation\n",
    "                mutation(c, r_mut)\n",
    "                # store for next generation\n",
    "                children.append(c)\n",
    "        # replace population\n",
    "        pop = children\n",
    "    return [best, best_eval]"
   ]
  },
  {
   "cell_type": "code",
   "execution_count": 274,
   "metadata": {},
   "outputs": [],
   "source": [
    "def objective(CNF, n_bits, pop):\n",
    "    dict_value = {}\n",
    "    #print(pop)\n",
    "    #print(CNF)\n",
    "    CNF_in = CNF.copy()\n",
    "    for i in range(n_bits):\n",
    "        dict_value['x'+str(i)] = pop[i]\n",
    "    for i in range(len(CNF_in)):\n",
    "        index_cnd_i = re.findall(r'\\d+', CNF[i])\n",
    "        for j in index_cnd_i:\n",
    "            CNF_in[i] = CNF_in[i].replace('x' + str(j), str(dict_value['x' + str(j)]))\n",
    "    #print(CNF_in)        \n",
    "    #print(\"AIAAIIAIAI\", [eval(CNF_in[i]) for i in range(len(CNF_in))])        \n",
    "    return sum([eval(CNF_in[i]) for i in range(len(CNF_in))])"
   ]
  },
  {
   "cell_type": "code",
   "execution_count": 275,
   "metadata": {},
   "outputs": [
    {
     "name": "stdout",
     "output_type": "stream",
     "text": [
      "0 955\n",
      ">1, new best f([1, 1, 0, 0, 1, 0, 1, 0, 1, 1, 0, 0, 1, 0, 0]) = 957.000\n",
      ">2, new best f([0, 1, 0, 0, 1, 0, 1, 0, 1, 1, 0, 0, 1, 1, 1]) = 961.000\n",
      ">3, new best f([0, 1, 0, 0, 1, 0, 1, 0, 1, 1, 1, 0, 1, 1, 1]) = 962.000\n",
      ">4, new best f([0, 0, 0, 1, 0, 1, 1, 0, 1, 0, 0, 0, 1, 1, 1]) = 965.000\n",
      ">5, new best f([0, 0, 0, 1, 0, 1, 1, 0, 1, 0, 0, 0, 0, 1, 1]) = 966.000\n",
      ">9, new best f([0, 0, 0, 1, 0, 1, 1, 0, 0, 0, 0, 0, 1, 1, 1]) = 969.000\n",
      ">10, new best f([0, 0, 0, 1, 0, 1, 1, 0, 0, 0, 0, 0, 0, 1, 1]) = 970.000\n"
     ]
    },
    {
     "data": {
      "text/plain": [
       "[[0, 0, 0, 1, 0, 1, 1, 0, 0, 0, 0, 0, 0, 1, 1], 970]"
      ]
     },
     "execution_count": 275,
     "metadata": {},
     "output_type": "execute_result"
    }
   ],
   "source": [
    "genetic_algorithm(objective, CNF, n_bits, n_iter, n_pop, 0.4, 0.1)"
   ]
  },
  {
   "cell_type": "code",
   "execution_count": 11,
   "metadata": {},
   "outputs": [],
   "source": [
    "import scipy.stats as st\n",
    "import matplotlib.pyplot as plt"
   ]
  },
  {
   "cell_type": "code",
   "execution_count": 4,
   "metadata": {},
   "outputs": [],
   "source": [
    "mynorm = st.norm(loc = 1420.325, scale = 15.11)"
   ]
  },
  {
   "cell_type": "code",
   "execution_count": 8,
   "metadata": {},
   "outputs": [],
   "source": [
    "x = np.linspace(1420 - 3*15, 1420 + 3*15)"
   ]
  },
  {
   "cell_type": "code",
   "execution_count": 10,
   "metadata": {},
   "outputs": [],
   "source": [
    "y = mynorm.pdf(x)"
   ]
  },
  {
   "cell_type": "code",
   "execution_count": 12,
   "metadata": {},
   "outputs": [
    {
     "data": {
      "text/plain": [
       "[<matplotlib.lines.Line2D at 0x7f548fee55e0>]"
      ]
     },
     "execution_count": 12,
     "metadata": {},
     "output_type": "execute_result"
    },
    {
     "data": {
      "image/png": "[encoded data removed]",
      "text/plain": [
       "<Figure size 432x288 with 1 Axes>"
      ]
     },
     "metadata": {
      "needs_background": "light"
     },
     "output_type": "display_data"
    }
   ],
   "source": [
    "plt.plot(x, y)"
   ]
  },
  {
   "cell_type": "code",
   "execution_count": null,
   "metadata": {},
   "outputs": [],
   "source": []
  }
 ],
 "metadata": {
  "kernelspec": {
   "display_name": "Python 3",
   "language": "python",
   "name": "python3"
  },
  "language_info": {
   "codemirror_mode": {
    "name": "ipython",
    "version": 3
   },
   "file_extension": ".py",
   "mimetype": "text/x-python",
   "name": "python",
   "nbconvert_exporter": "python",
   "pygments_lexer": "ipython3",
   "version": "3.8.5"
  }
 },
 "nbformat": 4,
 "nbformat_minor": 4
}
